{
 "cells": [
  {
   "cell_type": "code",
   "execution_count": 1,
   "metadata": {},
   "outputs": [
    {
     "data": {
      "text/html": [
       "<div>\n",
       "<style scoped>\n",
       "    .dataframe tbody tr th:only-of-type {\n",
       "        vertical-align: middle;\n",
       "    }\n",
       "\n",
       "    .dataframe tbody tr th {\n",
       "        vertical-align: top;\n",
       "    }\n",
       "\n",
       "    .dataframe thead th {\n",
       "        text-align: right;\n",
       "    }\n",
       "</style>\n",
       "<table border=\"1\" class=\"dataframe\">\n",
       "  <thead>\n",
       "    <tr style=\"text-align: right;\">\n",
       "      <th></th>\n",
       "      <th>P</th>\n",
       "      <th>D</th>\n",
       "      <th>CPI</th>\n",
       "      <th>returns</th>\n",
       "    </tr>\n",
       "    <tr>\n",
       "      <th>Date</th>\n",
       "      <th></th>\n",
       "      <th></th>\n",
       "      <th></th>\n",
       "      <th></th>\n",
       "    </tr>\n",
       "  </thead>\n",
       "  <tbody>\n",
       "    <tr>\n",
       "      <th>1871-01-01</th>\n",
       "      <td>4.440000</td>\n",
       "      <td>0.260000</td>\n",
       "      <td>12.464061</td>\n",
       "      <td>0.000000</td>\n",
       "    </tr>\n",
       "    <tr>\n",
       "      <th>1871-02-01</th>\n",
       "      <td>4.500000</td>\n",
       "      <td>0.260000</td>\n",
       "      <td>12.844641</td>\n",
       "      <td>0.018328</td>\n",
       "    </tr>\n",
       "    <tr>\n",
       "      <th>1871-03-01</th>\n",
       "      <td>4.610000</td>\n",
       "      <td>0.260000</td>\n",
       "      <td>13.034972</td>\n",
       "      <td>0.029144</td>\n",
       "    </tr>\n",
       "    <tr>\n",
       "      <th>1871-04-01</th>\n",
       "      <td>4.740000</td>\n",
       "      <td>0.260000</td>\n",
       "      <td>12.559226</td>\n",
       "      <td>0.032771</td>\n",
       "    </tr>\n",
       "    <tr>\n",
       "      <th>1871-05-01</th>\n",
       "      <td>4.860000</td>\n",
       "      <td>0.260000</td>\n",
       "      <td>12.273812</td>\n",
       "      <td>0.029775</td>\n",
       "    </tr>\n",
       "    <tr>\n",
       "      <th>...</th>\n",
       "      <td>...</td>\n",
       "      <td>...</td>\n",
       "      <td>...</td>\n",
       "      <td>...</td>\n",
       "    </tr>\n",
       "    <tr>\n",
       "      <th>2020-01-01</th>\n",
       "      <td>3418.701364</td>\n",
       "      <td>58.659615</td>\n",
       "      <td>260.388000</td>\n",
       "      <td>0.017233</td>\n",
       "    </tr>\n",
       "    <tr>\n",
       "      <th>2020-11-01</th>\n",
       "      <td>3548.992500</td>\n",
       "      <td>58.469231</td>\n",
       "      <td>260.229000</td>\n",
       "      <td>0.039484</td>\n",
       "    </tr>\n",
       "    <tr>\n",
       "      <th>2020-12-01</th>\n",
       "      <td>3695.310000</td>\n",
       "      <td>58.278846</td>\n",
       "      <td>260.474000</td>\n",
       "      <td>0.042542</td>\n",
       "    </tr>\n",
       "    <tr>\n",
       "      <th>2021-01-01</th>\n",
       "      <td>3793.748421</td>\n",
       "      <td>NaN</td>\n",
       "      <td>260.596500</td>\n",
       "      <td>0.000000</td>\n",
       "    </tr>\n",
       "    <tr>\n",
       "      <th>2021-02-01</th>\n",
       "      <td>3826.310000</td>\n",
       "      <td>NaN</td>\n",
       "      <td>260.657750</td>\n",
       "      <td>0.000000</td>\n",
       "    </tr>\n",
       "  </tbody>\n",
       "</table>\n",
       "<p>1802 rows × 4 columns</p>\n",
       "</div>"
      ],
      "text/plain": [
       "                      P          D         CPI   returns\n",
       "Date                                                    \n",
       "1871-01-01     4.440000   0.260000   12.464061  0.000000\n",
       "1871-02-01     4.500000   0.260000   12.844641  0.018328\n",
       "1871-03-01     4.610000   0.260000   13.034972  0.029144\n",
       "1871-04-01     4.740000   0.260000   12.559226  0.032771\n",
       "1871-05-01     4.860000   0.260000   12.273812  0.029775\n",
       "...                 ...        ...         ...       ...\n",
       "2020-01-01  3418.701364  58.659615  260.388000  0.017233\n",
       "2020-11-01  3548.992500  58.469231  260.229000  0.039484\n",
       "2020-12-01  3695.310000  58.278846  260.474000  0.042542\n",
       "2021-01-01  3793.748421        NaN  260.596500  0.000000\n",
       "2021-02-01  3826.310000        NaN  260.657750  0.000000\n",
       "\n",
       "[1802 rows x 4 columns]"
      ]
     },
     "execution_count": 1,
     "metadata": {},
     "output_type": "execute_result"
    }
   ],
   "source": [
    "import numpy as np\n",
    "import pandas as pd\n",
    "\n",
    "df = pd.read_excel('http://www.econ.yale.edu/~shiller/data/ie_data.xls', sheet_name='Data', skiprows=7, skipfooter=1, usecols=['Date', 'P', 'D', 'CPI'])\n",
    "df['Date'] = pd.to_datetime(df['Date'].astype(str), format='%Y.%m', yearfirst=True)\n",
    "df.set_index('Date', inplace=True)\n",
    "df['returns'] = df['P'].pct_change() + df['D'] / df['P'] / 12\n",
    "df['returns'].fillna(0, inplace=True)\n",
    "df"
   ]
  },
  {
   "cell_type": "code",
   "execution_count": 6,
   "metadata": {},
   "outputs": [
    {
     "name": "stdout",
     "output_type": "stream",
     "text": [
      "1M capital, 4% withdrawal rate, no fees, 30 years: 97.99% success ratio\n"
     ]
    }
   ],
   "source": [
    "def sim(starting_capital = 1000000,\n",
    "        withdrawal = 40000, \n",
    "        fees = 0.0015, \n",
    "        duration = 30, \n",
    "       ):\n",
    "    \"\"\"\n",
    "    Parameters\n",
    "    ----------\n",
    "    starting_capital : int\n",
    "        Starting capital\n",
    "    withdrawal : int\n",
    "        Yearly amount to withdraw\n",
    "    fees : float\n",
    "        Yearly fees\n",
    "    duration : int\n",
    "        Number of years the starting capital should last\n",
    "        \n",
    "    Returns\n",
    "    -------\n",
    "    float\n",
    "        The success percentage of the given configuration.\n",
    "    \"\"\"\n",
    "    # turn into monthly values\n",
    "    withdrawal /= 12\n",
    "    fees /= 12\n",
    "    duration *= 12\n",
    "    \n",
    "    # prepare some variables outside the loop (for performance)\n",
    "    samples = df.index.size - duration\n",
    "    end_capital = np.empty(samples)\n",
    "    inflation = df['CPI'].values\n",
    "    returns = df['returns'].values + 1\n",
    "    fees_multiplier = 1 - fees\n",
    "        \n",
    "     # loop over all periods\n",
    "    for n in range(0, samples):\n",
    "        # create an array with the relative inflation values for each month\n",
    "        rel_inflation = inflation[n:n+duration] / inflation[n]\n",
    "        \n",
    "        # iterate over months to calculcate capital vlaues\n",
    "        capital = starting_capital\n",
    "        for m in range(0, duration):\n",
    "            capital = capital * returns[n+m] * fees_multiplier - (withdrawal * rel_inflation[m])\n",
    "        end_capital[n] = capital            \n",
    "\n",
    "    successful_periods = np.sum(end_capital > 0)\n",
    "    return successful_periods / samples\n",
    "\n",
    "print(\"1M capital, 4% withdrawal rate, no fees, 30 years: {:.2%} success ratio\".format(sim(fees=0)))"
   ]
  },
  {
   "cell_type": "code",
   "execution_count": 8,
   "metadata": {},
   "outputs": [
    {
     "data": {
      "text/plain": [
       "<AxesSubplot:xlabel='Date'>"
      ]
     },
     "execution_count": 8,
     "metadata": {},
     "output_type": "execute_result"
    },
    {
     "data": {
      "image/png": "[encoded data removed]",
      "text/plain": [
       "<Figure size 720x432 with 1 Axes>"
      ]
     },
     "metadata": {
      "needs_background": "light"
     },
     "output_type": "display_data"
    }
   ],
   "source": [
    "(1 + df['returns']).cumprod().plot(logy=True, figsize=(10, 6), grid=True)"
   ]
  },
  {
   "cell_type": "code",
   "execution_count": null,
   "metadata": {},
   "outputs": [],
   "source": []
  }
 ],
 "metadata": {
  "kernelspec": {
   "display_name": "Python 3",
   "language": "python",
   "name": "python3"
  },
  "language_info": {
   "codemirror_mode": {
    "name": "ipython",
    "version": 3
   },
   "file_extension": ".py",
   "mimetype": "text/x-python",
   "name": "python",
   "nbconvert_exporter": "python",
   "pygments_lexer": "ipython3",
   "version": "3.9.2"
  }
 },
 "nbformat": 4,
 "nbformat_minor": 4
}
